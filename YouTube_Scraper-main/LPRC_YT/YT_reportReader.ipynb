{
 "cells": [
  {
   "cell_type": "markdown",
   "metadata": {},
   "source": [
    "Install and import PyPDF2. Make a PDF Reader object, assign PDF text into string variable for manipulation. Import OS to get a list of reports avaiable."
   ]
  },
  {
   "cell_type": "code",
   "execution_count": 126,
   "metadata": {},
   "outputs": [],
   "source": [
    "import PyPDF2 as PDF2\n",
    "import os\n",
    "\n",
    "report_path = './Reports/'\n",
    "total_reports_available = os.listdir(report_path)"
   ]
  },
  {
   "cell_type": "code",
   "execution_count": 127,
   "metadata": {},
   "outputs": [],
   "source": [
    "import re\n",
    "yt_report_pdf = open('./Reports/'+ total_reports_available[len(total_reports_available)-1],'rb')\n",
    "# I want to find a way to just use the most recent report, I'm not sure how they get organized in the folder yet though.\n",
    "# yt_report_pdf = open('./Reports/Walmart-YouTube-Threat-Report-2023-11-27 17:51:31.pdf','rb')\n",
    "\n",
    "yt_reader = PDF2.PdfReader(yt_report_pdf)\n",
    "\n",
    "num_of_pages = len(yt_reader.pages)\n",
    "clean_comment_list = []\n",
    "total_comment_list = []\n",
    "\n",
    "for yt_page in range(num_of_pages):\n",
    "    extracted_page = yt_reader.pages[yt_page].extract_text()\n",
    "    clean_comment_list.append(extracted_page[extracted_page.find('Comments')+9::].replace('\\t', '').replace('-', '').replace(\"\\\"\",'').replace('\\'', '').split('\\n'))\n",
    "    \n",
    "for index in range(len(clean_comment_list)):\n",
    "    if len(clean_comment_list[index]) < 2:\n",
    "        continue\n",
    "    for word in range(len(clean_comment_list[index])):\n",
    "        if clean_comment_list[index][word] != '':\n",
    "            total_comment_list.append(clean_comment_list[index][word])\n",
    "\n",
    "yt_report_pdf.close()"
   ]
  },
  {
   "cell_type": "code",
   "execution_count": 128,
   "metadata": {},
   "outputs": [
    {
     "name": "stdout",
     "output_type": "stream",
     "text": [
      "Sentiment(classification='pos', p_pos=0.9794064737603723, p_neg=0.02059352623962015)\n"
     ]
    }
   ],
   "source": [
    "from textblob import TextBlob\n",
    "from textblob.sentiments import NaiveBayesAnalyzer\n",
    "convert_str = ''\n",
    "\n",
    "for index in total_comment_list:\n",
    "    convert_str += index.lower()+ '.'\n",
    "    \n",
    "blob = TextBlob(convert_str, analyzer=NaiveBayesAnalyzer())\n",
    "print(blob.sentiment)\n",
    "\n",
    "# OUTPUT: Sentiment(classification='pos', p_pos=0.9794064737603723, p_neg=0.02059352623962015)"
   ]
  },
  {
   "cell_type": "code",
   "execution_count": 129,
   "metadata": {},
   "outputs": [
    {
     "name": "stdout",
     "output_type": "stream",
     "text": [
      "{'neg': 0.048, 'neu': 0.8, 'pos': 0.153, 'compound': 0.9976}\n"
     ]
    }
   ],
   "source": [
    "from nltk.sentiment import SentimentIntensityAnalyzer\n",
    "sia = SentimentIntensityAnalyzer()\n",
    "print(sia.polarity_scores(convert_str))\n",
    "# OUTPUT: {'neg': 0.048, 'neu': 0.8, 'pos': 0.153, 'compound': 0.9976}"
   ]
  },
  {
   "cell_type": "code",
   "execution_count": 130,
   "metadata": {},
   "outputs": [
    {
     "name": "stdout",
     "output_type": "stream",
     "text": [
      "0.2124184210526316\n"
     ]
    }
   ],
   "source": [
    "from statistics import mean\n",
    "import nltk\n",
    "text = convert_str\n",
    "\n",
    "def is_positive() :\n",
    "    scores = [\n",
    "        sia.polarity_scores(sentence)[\"compound\"] for sentence in nltk.sent_tokenize(text)\n",
    "    ]\n",
    "    return mean(scores)\n",
    "\n",
    "print(is_positive() )\n",
    "# OUTPUT: True/ 0.2124184210526316\n"
   ]
  },
  {
   "cell_type": "code",
   "execution_count": 131,
   "metadata": {},
   "outputs": [
    {
     "name": "stdout",
     "output_type": "stream",
     "text": [
      "Sentiment Scores: NLTK SentimentIntensityAnalyzer: 0.2124184210526316...TextBlob NaiveBayesAnalyzer: pos...Overall: Positive\n"
     ]
    }
   ],
   "source": [
    "\n",
    "def get_general_score():\n",
    "    if(is_positive() and blob.sentiment.classification == 'pos'):\n",
    "        return f'Sentiment Scores: NLTK SentimentIntensityAnalyzer: {is_positive()}...TextBlob NaiveBayesAnalyzer: {blob.sentiment.classification}...Overall: Positive'\n",
    "    elif is_positive() != 0:\n",
    "        return f'Sentiment Scores: NLTK SentimentIntensityAnalyzer: {is_positive()}...TextBlob NaiveBayesAnalyzer: {blob.sentiment.classification}...Overall: Negative'\n",
    "    else:\n",
    "        return f'Sentiment Scores: NLTK SentimentIntensityAnalyzer: {is_positive()}...TextBlob NaiveBayesAnalyzer: {blob.sentiment.classification}...Overall: Neutral'\n",
    "print(get_general_score())"
   ]
  },
  {
   "cell_type": "markdown",
   "metadata": {},
   "source": [
    "I added TextBlob NaiveBayesAnalyzer (I'm not sure if that was the default), and NLTK SentimentIntensityAnalyzer. I feel like I need to format/clean up the data some more to make it really accurate but this seems to be an okay starting spot. I'll keep experimenting on where to go after this; but I was thinking of taking one or two reports, formatting the data and training a model using that data. I want to find a way to just use the most recent report, I'm not sure how they get organized in the folder yet though. "
   ]
  },
  {
   "cell_type": "markdown",
   "metadata": {},
   "source": []
  }
 ],
 "metadata": {
  "kernelspec": {
   "display_name": "Python 3",
   "language": "python",
   "name": "python3"
  },
  "language_info": {
   "codemirror_mode": {
    "name": "ipython",
    "version": 3
   },
   "file_extension": ".py",
   "mimetype": "text/x-python",
   "name": "python",
   "nbconvert_exporter": "python",
   "pygments_lexer": "ipython3",
   "version": "3.10.11"
  }
 },
 "nbformat": 4,
 "nbformat_minor": 2
}
